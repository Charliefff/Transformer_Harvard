{
 "cells": [
  {
   "attachments": {},
   "cell_type": "markdown",
   "metadata": {},
   "source": [
    "<span id=\"head\"></span>"
   ]
  },
  {
   "attachments": {},
   "cell_type": "markdown",
   "metadata": {},
   "source": [
    "## Workflow\n",
    "\n",
    "<img src=\"/data/tzeshinchen/deep_learning/transformer/Ai_meeting/image/workflow.jpg\" alt=\"Transformers_workflow\" width=\"1200\">"
   ]
  },
  {
   "attachments": {},
   "cell_type": "markdown",
   "metadata": {},
   "source": [
    "<li><a href=\"#1\">1. Embedding</a></li>\n",
    "<li><a href=#2>2. Positional Encoding</a></li>\n",
    "<li><a href=\"#3\">3. Multi-Head Attention</a></li>\n",
    "<li><a href=\"#4\">4. SubLayer</a></li>\n",
    "<li><a href=\"#5\">5. Feedfoeard</a></li>\n",
    "<li><a href=\"#6\">6. Encoder Layer</a></li>\n",
    "<li><a href=\"#7\">7. Decoder Layer</a></li>\n",
    "<li><a href=\"#8\">8. Layernorm</a></li>\n",
    "<li><a href=\"#9\">9. Encoder</a></li>\n",
    "<li><a href=\"#10\">10. Decoder</a></li>\n",
    "<li><a href=\"#11\">11. Generator</a></li>\n",
    "<li><a href=\"#12\">12. EncoderDecoder</a></li>\n",
    "<li><a href=\"#Final\">Final</a></li>"
   ]
  },
  {
   "cell_type": "code",
   "execution_count": 1,
   "metadata": {},
   "outputs": [
    {
     "name": "stdout",
     "output_type": "stream",
     "text": [
      "2.0.0+cu117\n"
     ]
    }
   ],
   "source": [
    "import torch\n",
    "print(torch.__version__)"
   ]
  },
  {
   "attachments": {},
   "cell_type": "markdown",
   "metadata": {},
   "source": [
    "# Import "
   ]
  },
  {
   "cell_type": "code",
   "execution_count": 33,
   "metadata": {},
   "outputs": [],
   "source": [
    "import numpy as np\n",
    "import torch\n",
    "import torch.nn as nn\n",
    "import torch.nn.functional as F\n",
    "import math, copy, time\n",
    "from torch.autograd import Variable\n",
    "# 在最後可視化attention的時候會用到\n",
    "import matplotlib.pyplot as plt\n",
    "import seaborn\n",
    "# seaborn.set_context(context=\"talk\")\n",
    "# %matplotlib inline"
   ]
  },
  {
   "attachments": {},
   "cell_type": "markdown",
   "metadata": {},
   "source": [
    "## Seq-Seq傳統模型架構 transformer也遵循這個架構"
   ]
  },
  {
   "cell_type": "code",
   "execution_count": 9,
   "metadata": {},
   "outputs": [],
   "source": [
    "class EncoderDecoder(nn.Module):\n",
    "    # 這是標準的Encoder-Decoder架構\n",
    "    def __init__(self, encoder , decoder, src_embed, tgt_embed, generator):\n",
    "        super(EncoderDecoder, self).__init__()\n",
    "        self.encoder = encoder\n",
    "        self.decoder = decoder\n",
    "        self.src_embed = src_embed\n",
    "        self.tgt_embed = tgt_embed\n",
    "        self.generator = generator\n",
    "        \n",
    "    def encoder(self, src, src_mask):\n",
    "        return self.encoder(self.src_embed(src), src_mask)\n",
    "    \n",
    "    def decoder(self, tgt, memory, src_mask, tgt_mask):\n",
    "        return self.decoder(self.tgt_embed(tgt), memory, src_mask, tgt_mask)\n",
    "    \n",
    "    def forward(self, src, tgt, src_mask, tgt_mask):\n",
    "        \n",
    "        return self.decode(self.encode(src, src_mask), src_mask, tgt, tgt_mask)"
   ]
  },
  {
   "cell_type": "code",
   "execution_count": 10,
   "metadata": {},
   "outputs": [],
   "source": [
    "class Generator(nn.Module):\n",
    "    # 定義standard linear + softmax generation step\n",
    "    def __init__(self, d_model, vocab):\n",
    "        super(Generator, self).__init__()\n",
    "        self.proj = nn.Linear(d_model, vocab)\n",
    "        \n",
    "\n",
    "    def forward(self, x):\n",
    "        return F.log_softmax(self.proj(x), dim=-1)"
   ]
  },
  {
   "attachments": {},
   "cell_type": "markdown",
   "metadata": {},
   "source": [
    "<span id=\"1\"></span>"
   ]
  },
  {
   "attachments": {},
   "cell_type": "markdown",
   "metadata": {},
   "source": [
    "## 進入到transformers \n",
    "## 1. Embedding\n",
    "<a href=\"#head\">Back</a>"
   ]
  },
  {
   "cell_type": "code",
   "execution_count": 11,
   "metadata": {},
   "outputs": [],
   "source": [
    "class Embeddings(nn.Module):\n",
    "    def __init__(self, d_model, vocab):\n",
    "        # vocab = 當前語言的字典大小\n",
    "        # nn.Module是將參數打包成一個物件當執行forward可以自動做gradient\n",
    "        super(Embeddings, self).__init__()\n",
    "        self.d_model = d_model # size = 512\n",
    "        self.lut = nn.Embedding(vocab, d_model)\n",
    "        # 將vocab大小的字典轉成d_model大小(512)的向量\n",
    "        # 產生第一個weight matrix大小為vocab*d_model\n",
    "    def forward(self, x):\n",
    "        # x = [batch_size, seq_len, one-hot==vocab]\n",
    "        # 不知道為什麼要乘以math.sqrt(self.d_model)\n",
    "        return self.lut(x)*math.sqrt(self.d_model)\n",
    "    \n",
    "    "
   ]
  },
  {
   "attachments": {},
   "cell_type": "markdown",
   "metadata": {},
   "source": [
    "<span id=\"2\"></span><span id=\"2\"></span>"
   ]
  },
  {
   "attachments": {},
   "cell_type": "markdown",
   "metadata": {},
   "source": [
    "\n",
    "## 2.Positional Encoding\n",
    "<a href=\"#head\">Back</a>"
   ]
  },
  {
   "cell_type": "code",
   "execution_count": 12,
   "metadata": {},
   "outputs": [],
   "source": [
    "class PositionalEncoding(nn.Module): \n",
    "  \"Implement the PE function.\" \n",
    "  def __init__(self, d_model, dropout, max_len=5000): \n",
    "    #d_model=512,dropout=0.1,\n",
    "    #max_len=5000 先定義好長度為5000的位置編碼  \n",
    "    super(PositionalEncoding, self).__init__() \n",
    "    self.dropout = nn.Dropout(p=dropout) \n",
    "\n",
    "    # Compute the positional encodings once in log space. \n",
    "    pe = torch.zeros(max_len, d_model) \n",
    "    # (5000, 512)矩陣，保持每個位置的位置編碼，一共5000個位置，\n",
    "    # 每個位置用一個512dim向量來表示其位置編碼。\n",
    "    position = torch.arange(0, max_len).unsqueeze(1) \n",
    "    # (5000) -> (5000,1)\n",
    "    div_term = torch.exp(torch.arange(0, d_model, 2) * \n",
    "      -(math.log(10000.0) / d_model)) \n",
    "      # (0,2,…, 4998)一共準備2500个值，供sin, cos调用\n",
    "    pe[:, 0::2] = torch.sin(position * div_term) # even index sin\n",
    "    pe[:, 1::2] = torch.cos(position * div_term) # odd index cos\n",
    "    pe = pe.unsqueeze(0) \n",
    "    # (5000, 512) -> (1, 5000, 512) 為batch.size留出位置\n",
    "    self.register_buffer('pe', pe) \n",
    "  def forward(self, x): \n",
    "    x = x + Variable(self.pe[:, :x.size(1)], requires_grad=False) \n",
    "  # 接受1.Embeddings的詞嵌入結果x，\n",
    "  # 然後將自己的位置編碼pe，封裝成torch的Variable（不需要梯度），加上去。\n",
    "  # 例如，假設x是(30,10,512)的一個tensor，\n",
    "  # 30是batch.size，10是該batch的序列長度，512是每個詞的詞嵌入向量；\n",
    "  # 則該行程式碼的第二項是(1, min(10, 5000), 512)=(1,10,512)，\n",
    "  # 在具體相加的時候，會擴展(1,10,512)為(30,10,512)，\n",
    "  # 保證一個batch中的30個序列，都使用（疊加）一樣的位置編碼。\n",
    "\n",
    "    return self.dropout(x) # 增加一次dropout操作\n"
   ]
  },
  {
   "cell_type": "code",
   "execution_count": 13,
   "metadata": {},
   "outputs": [],
   "source": [
    "# class A(object):\n",
    "#     def __init__(self):\n",
    "#         print(self.__class__.__mro__)\n",
    "\n",
    "#     def bark(self):\n",
    "#         super(A, self).bark()\n",
    "#         print(\"I'm A\")\n",
    "\n",
    "# class B(object):\n",
    "#     def bark(self):\n",
    "#         print(\"I'm B\")\n",
    "\n",
    "\n",
    "# class C(A, B):\n",
    "#     def bark(self):\n",
    "#         print(\"I'm C\")\n",
    "#         super(C, self).bark()\n",
    "\n",
    "\n",
    "# if __name__ == '__main__':\n",
    "#     c = C()\n",
    "#     c.bark()\n",
    "\n"
   ]
  },
  {
   "cell_type": "code",
   "execution_count": 14,
   "metadata": {},
   "outputs": [],
   "source": [
    "# # 要怎麼把1.Embeddings和2.PositionalEncoding串起來\n",
    "# nn.Sequential(Embeddings(d_model,src_vocab),\n",
    "#   PositionalEncoding(d_model,dropout)) \n",
    "# # 這樣就可以了，因為nn.Sequential可以接受一系列的nn.Module，然後按順序执行。"
   ]
  },
  {
   "attachments": {},
   "cell_type": "markdown",
   "metadata": {},
   "source": [
    "<span id=\"3\"></span>"
   ]
  },
  {
   "attachments": {},
   "cell_type": "markdown",
   "metadata": {},
   "source": [
    "## 3.Multi-Head Attention\n",
    "<a href=\"#head\">Back</a>"
   ]
  },
  {
   "cell_type": "code",
   "execution_count": null,
   "metadata": {},
   "outputs": [],
   "source": [
    "def clones(module, N):\n",
    "    \"Produce N identical layers.\"\n",
    "    return nn.ModuleList([copy.deepcopy(module) for _ in range(N)])"
   ]
  },
  {
   "cell_type": "code",
   "execution_count": 1,
   "metadata": {},
   "outputs": [],
   "source": [
    "class attention():\n",
    "    pass"
   ]
  },
  {
   "attachments": {},
   "cell_type": "markdown",
   "metadata": {},
   "source": [
    "<img src=\"/data/tzeshinchen/deep_learning/transformer/Ai_meeting/image/Multi-Head.png\" alt=\"Multi-head\" width=\"700\">\n",
    "\n"
   ]
  },
  {
   "cell_type": "code",
   "execution_count": null,
   "metadata": {},
   "outputs": [],
   "source": [
    "class MultiHeadedAttention(nn.Module): \n",
    "  def __init__(self, h, d_model, dropout=0.1): \n",
    "    # h(head)=8, d_model(文字轉換成512dim)=512\n",
    "    super(MultiHeadedAttention, self).__init__() \n",
    "    assert d_model % h == 0 # We assume d_v always equals d_k 512%8=0\n",
    "    self.d_k = d_model // h # d_k=512/8=64\n",
    "    self.h = h #8\n",
    "    self.linears = clones(nn.Linear(d_model, d_model), 4) \n",
    "    # 做四次Linear Networks，每次的輸入和輸出都是d_model=512，\n",
    "    # 其實就是\n",
    "    # Q = nn.Linear(d_model, d_model)\n",
    "    # K = nn.Linear(d_model, d_model)\n",
    "    # V = nn.Linear(d_model, d_model)\n",
    "    # O = nn.Linear(d_model, d_model)\n",
    "    #https://pytorch.org/docs/stable/generated/torch.nn.Linear.html\n",
    "     \n",
    "    self.attn = None \n",
    "    self.dropout = nn.Dropout(p=dropout)\n",
    "  def forward(self, query, key, value, mask=None): \n",
    "    # Q, K, V 在encoder(30, 10, 512)，\n",
    "    # 30代表當前batch的大小\n",
    "    # 10 代表當前batch中每個句子的長度(是固定10的長度)\n",
    "  \n",
    "    # if mask is not None: # Same mask applied to all h heads. \n",
    "    #   mask = mask.unsqueeze(1)\n",
    "    #   nbatches = query.size(0) # nbatches=30\n",
    "      \n",
    "    # 1) Do all the linear projections in batch from \n",
    "    #d_model => h x d_k \n",
    "    query, key, value = [l(x).view(nbatches, -1, self.h, self.d_k).transpose(1, 2) for l, x in zip(self.linears, (query, key, value))] \n",
    "    # 這裡是前三個nn.Linear的具體應用，\n",
    "    # 例如query=(30,10, 512) -> Linear network -> (30, 10, 512) \n",
    "    # -> view -> (30,10, 8, 64) -> transpose(1,2) -> (30, 8, 10, 64)\n",
    "    # ，其他的key和value也是類似地，\n",
    "    # 從(30, 10, 512) -> (30, 8, 10, 64)。\n",
    "    \n",
    "    # 2) Apply attention on all the projected vectors in batch. \n",
    "    x, self.attn = attention(query, key, value, mask=mask, \n",
    "      dropout=self.dropout) \n",
    "    # 調用上面定義好的attention函數，輸出的x形狀為(30, 8, 10, 64)；\n",
    "    # attn的形狀為(30, 8, 10=target.seq.len, 11=src.seq.len)\n",
    "    \n",
    "    # 3) \"Concat\" using a view and apply a final linear.\n",
    "    x = x.transpose(1, 2).contiguous().view(nbatches, -1, self.h * self.d_k) \n",
    "      # x ~ (30, 8, 10, 64) -> transpose(1,2) -> \n",
    "      #(30, 10, 8, 64) -> contiguous() and view -> \n",
    "      #(30, 10, 8*64) = (30, 10, 512)\n",
    "    return self.linears[-1](x) \n",
    "    # 執行第四個Linear network，將(30, 10, 512)通過一次linear\n"
   ]
  },
  {
   "cell_type": "code",
   "execution_count": 6,
   "metadata": {},
   "outputs": [
    {
     "name": "stdout",
     "output_type": "stream",
     "text": [
      "tensor([[1., 2.],\n",
      "        [3., 4.],\n",
      "        [5., 6.],\n",
      "        [7., 8.]])\n"
     ]
    }
   ],
   "source": [
    "import torch\n",
    "a=torch.Tensor([1, 2, 3, 4, 5, 6, 7, 8])\n",
    "print(a.view(4,2))"
   ]
  },
  {
   "cell_type": "code",
   "execution_count": 2,
   "metadata": {},
   "outputs": [
    {
     "name": "stdout",
     "output_type": "stream",
     "text": [
      "[(1, 4), (2, 5), (3, 6)]\n",
      "[(1, [4, 5, 6]), (2, [4, 5, 6, 7, 8])]\n"
     ]
    }
   ],
   "source": [
    "# EX : zip\n",
    "a = [1, 2, 3, 4]\n",
    "b = [4,5,6]\n",
    "c = [4,5,6,7,8]\n",
    "zipped = zip(a, b)\n",
    "zipped1 = zip(a,(b, c))\n",
    "print(list(zipped))\n",
    "print(list(zipped1))"
   ]
  },
  {
   "cell_type": "code",
   "execution_count": 6,
   "metadata": {},
   "outputs": [],
   "source": [
    "# Ex : view transpose \n",
    "# query, key, value = [l(x).view(nbatches, -1, self.h, self.d_k).transpose(1, 2) for l, x in zip(self.linears, (query, key, value))] \n",
    "import torch\n",
    "import torch.nn as nn\n",
    "import copy \n",
    "\n",
    "def clones(module, N):\n",
    "    \"Produce N identical layers.\"\n",
    "    return nn.ModuleList([copy.deepcopy(module) for _ in range(N)])\n",
    "\n",
    "query = torch.randn(30, 10, 512)\n",
    "key =torch.randn(30, 10, 512)\n",
    "value= torch.randn(30, 10, 512)\n",
    "d_model = 512\n",
    "nbatches = 30 #batch size \n",
    "h = 8 #number of heads\n",
    "d_k = 64 #512//8=64\n",
    "Linears = clones(nn.Linear(d_model, d_model), 4) \n",
    "\n",
    "query, key, value = [l(x).view(nbatches, -1, h, d_k)\n",
    "    .transpose(1, 2) for l, x in \n",
    "    zip(Linears, (query, key, value))] "
   ]
  },
  {
   "cell_type": "code",
   "execution_count": null,
   "metadata": {},
   "outputs": [],
   "source": [
    "def attention(query, key, value, mask=None, dropout=None): \n",
    "# query、key、value的形狀類似於(batch_size, 目標序列中詞語個數, head數, 嵌入維度)\n",
    "# (30, 8, 10, 64)\n",
    "# 30代表當前batch的大小\n",
    "# 8代表attention head的數量\n",
    "# 10代表序列長度，EX：<start> I am a student study in NYCU . <end>\n",
    "# 64代表每個詞向量的維度大小。\n",
    "\n",
    "  \"Compute 'Scaled Dot Product Attention'\" \n",
    "  d_k = query.size(-1) # 64=d_k\n",
    "  scores = torch.matmul(query, key.transpose(-2, -1)) / math.sqrt(d_k) # 先是(30,10,6,64)和(30, 10, 6, 64)相乘，\n",
    "    # Q x K 得到(30, 8, 10, 10)，\n",
    "\n",
    "  # if mask is not None: \n",
    "  #   scores = scores.masked_fill(mask == 0, -1e9) \n",
    "  #使用遮罩，對已經計算好的分數，在遮罩矩陣上填充-1e9，\n",
    "  #接下來在計算softmax時，被設置為-1e9的數值會被忽略，相當於該位置沒有對應的信息\n",
    "  p_attn = F.softmax(scores, dim = -1) \n",
    "    #(30, 8, 10, 10)\n",
    "  if dropout is not None: \n",
    "    p_attn = dropout(p_attn) #執行dropout\n",
    "  return torch.matmul(p_attn, value), p_attn\n",
    "  # 返回的第一项是 (30,8,10,10) 乘以（最后两个维度相乘）后得到的 tensor，形状为 (30,8,10,64)，和 query 最初的形状一样。同时，返回的 p_attn 形状为 (30,8,10,10)。\n"
   ]
  },
  {
   "cell_type": "code",
   "execution_count": 17,
   "metadata": {},
   "outputs": [
    {
     "data": {
      "text/plain": [
       "torch.Size([30, 8, 10, 64])"
      ]
     },
     "execution_count": 17,
     "metadata": {},
     "output_type": "execute_result"
    }
   ],
   "source": [
    "y = torch.randn(30, 8, 10, 10)\n",
    "x = torch.randn(30, 8, 10, 64)\n",
    "torch.matmul(y, x).shape"
   ]
  },
  {
   "cell_type": "code",
   "execution_count": 7,
   "metadata": {},
   "outputs": [
    {
     "name": "stdout",
     "output_type": "stream",
     "text": [
      "torch.Size([30, 8, 10, 64])\n"
     ]
    }
   ],
   "source": [
    "print(query.size())"
   ]
  },
  {
   "attachments": {},
   "cell_type": "markdown",
   "metadata": {},
   "source": [
    "<span id=\"4\"></span>"
   ]
  },
  {
   "attachments": {},
   "cell_type": "markdown",
   "metadata": {},
   "source": [
    "\n",
    "## 4.Sublayer\n",
    "<a href=\"#head\">Back</a>"
   ]
  },
  {
   "attachments": {},
   "cell_type": "markdown",
   "metadata": {},
   "source": [
    "<img src=\"/data/tzeshinchen/deep_learning/transformer/Ai_meeting/image/layernorm.png\">"
   ]
  },
  {
   "cell_type": "code",
   "execution_count": null,
   "metadata": {},
   "outputs": [],
   "source": [
    "# go to encoder layer first "
   ]
  },
  {
   "cell_type": "code",
   "execution_count": null,
   "metadata": {},
   "outputs": [],
   "source": [
    "class LayerNorm(nn.Module):\n",
    "    pass\n"
   ]
  },
  {
   "cell_type": "code",
   "execution_count": null,
   "metadata": {},
   "outputs": [],
   "source": [
    "class SublayerConnection(nn.Module):\n",
    "    # 做add\n",
    "\n",
    "    def __init__(self, size, dropout):\n",
    "        # size=d_model=512; dropout=0.1\n",
    "        super(SublayerConnection, self).__init__()\n",
    "        self.norm = LayerNorm(size) # (512)，用来定义a_2和b_2\n",
    "        self.dropout = nn.Dropout(dropout)\n",
    "# x \n",
    "    def forward(self, x, sublayer):\n",
    "        \"Apply residual connection to any sublayer with the \"\n",
    "        \"same size.\"\n",
    "        \n",
    "        # x is alike (batch.size, sequence.len, 512)\n",
    "\n",
    "        return x + self.dropout(sublayer(self.norm(x)))\n",
    "        # x (30, 10, 512) -> norm (LayerNorm) -> (30, 10, 512)\n",
    "        # -> sublayer (MultiHeadAttention or PositionwiseFeedForward)\n",
    "        # -> (30, 10, 512) -> dropout -> (30, 10, 512)\n",
    "        \n",
    "        # 然後輸入的x（没有走sublayer) + 上面的结果，\n",
    "        #實現Add & Norm"
   ]
  },
  {
   "attachments": {},
   "cell_type": "markdown",
   "metadata": {},
   "source": [
    "\n",
    "## 5.FeedForward\n",
    "<a href=\"#head\">Back</a>"
   ]
  },
  {
   "cell_type": "code",
   "execution_count": null,
   "metadata": {},
   "outputs": [],
   "source": [
    "class PositionwiseFeedForward(nn.Module):\n",
    "    \"Implements FFN equation.\"\n",
    "    def __init__(self, d_model, d_ff, dropout=0.1):\n",
    "        # d_model = 512\n",
    "        # d_ff = 2048 = 512*4\n",
    "        super(PositionwiseFeedForward, self).__init__()\n",
    "        self.w_1 = nn.Linear(d_model, d_ff)\n",
    "        # 構建第一個全連接層，(512, 2048)，其中有兩種可訓練參數：\n",
    "        # weights矩陣，(512, 2048)，以及\n",
    "        # biases偏移向量, (2048)\n",
    "        self.w_2 = nn.Linear(d_ff, d_model)\n",
    "        # 構建第二個全連接層, (2048, 512)，兩種可訓練參數：\n",
    "        # weight矩陣，(2048, 512)，以及\n",
    "        # biases偏移向量, (512)\n",
    "        self.dropout = nn.Dropout(dropout)\n",
    "\n",
    "    def forward(self, x):\n",
    "        # x shape = (batch.size, sequence.len, 512)\n",
    "        # 例如, (30, 10, 512)\n",
    "        return self.w_2(self.dropout(F.relu(self.w_1(x))))\n",
    "        # x (30, 10, 512) -> self.w_1 -> (30, 10, 2048)\n",
    "        # -> relu -> (30, 10, 2048) \n",
    "        # -> dropout -> (30, 10, 2048)\n",
    "        # -> self.w_2 -> (30, 10, 512)是輸出的shape"
   ]
  },
  {
   "attachments": {},
   "cell_type": "markdown",
   "metadata": {},
   "source": [
    "<span id=\"5\"></span>"
   ]
  },
  {
   "attachments": {},
   "cell_type": "markdown",
   "metadata": {},
   "source": [
    "\n",
    "## 6.Encoder Layer*N\n",
    "<a href=\"#head\">Back</a>\n"
   ]
  },
  {
   "cell_type": "code",
   "execution_count": null,
   "metadata": {},
   "outputs": [],
   "source": [
    "class EncoderLayer(nn.Module):\n",
    "    \"Encoder is made up of self-attn and \"\n",
    "    \"feed forward (defined below)\"\n",
    "    def __init__(self, size, self_attn, feed_forward, dropout):\n",
    "        # size=d_model=512\n",
    "        # self_attn = MultiHeadAttention, first sublayer input 資訊在final 裡面\n",
    "        # feed_forward = PositionwiseFeedForward，second sublayer\n",
    "        # dropout = 0.1 (e.g.)\n",
    "        super(EncoderLayer, self).__init__()\n",
    "        self.size = size # 512\n",
    "        self.self_attn = self_attn\n",
    "        self.feed_forward = feed_forward\n",
    "        self.sublayer = clones(SublayerConnection(size, dropout), 2)\n",
    "        # 直接copy兩個SublayerConnection對象，分別對應multi-head attention , feed forward兩個output\n",
    "\n",
    "    def forward(self, x, mask):\n",
    "        \"Follow Figure 1 (left) for connections.\"\n",
    "        # x shape = (30, 10, 512)\n",
    "        # mask 是(batch.size, 10,10)的矩陣，類似於當前一個詞w，有哪些詞是w可見的\n",
    "        # 源語言的序列的話，所有其他詞都可見，除了\"<blank>\"這樣的填充；\n",
    "        # 目標語言的序列的話，所有w的左邊的詞，都可見。\n",
    "        \n",
    "        # query_init, key init, value init= x, x, x\n",
    "        x = self.sublayer[0](x,lambda x: self.self_attn(x, x, x, mask))\n",
    "        # 輸入x和self_attention的output一起，给第一個SublayerConnection\n",
    "        # lambda x: self.self_attn(x, x, x, mask) = \n",
    "        # def lambda(x):\n",
    "        #   return self.self_attn(x, x, x, mask)\n",
    "        # 就被更新\n",
    "        \n",
    "        # x (30, 10, 512) -> self_attn (MultiHeadAttention) \n",
    "        # shape is same (30, 10, 512) -> SublayerConnection \n",
    "        # -> (30, 10, 512)\n",
    "        return self.sublayer[1](x, self.feed_forward)\n",
    "        # x 和feed_forward對象一起，给第二個SublayerConnection output = (30, 10, 512)"
   ]
  },
  {
   "attachments": {},
   "cell_type": "markdown",
   "metadata": {},
   "source": [
    "<span id=\"6\"></span>"
   ]
  },
  {
   "attachments": {},
   "cell_type": "markdown",
   "metadata": {},
   "source": [
    "\n",
    "## 7.Decoder Layer*N\n",
    "<a href=\"#head\">Back</a>"
   ]
  },
  {
   "cell_type": "code",
   "execution_count": null,
   "metadata": {},
   "outputs": [],
   "source": [
    "class DecoderLayer(nn.Module):\n",
    "    \"Decoder is made of self-attn, src-attn, \"\n",
    "    \"and feed forward (defined below)\"\n",
    "    def __init__(self, size, self_attn, src_attn, \n",
    "      feed_forward, dropout):\n",
    "      # size = d_model=512,\n",
    "      # self_attn = one MultiHeadAttention object，目標語言序列的\n",
    "      # src_attn = second MultiHeadAttention object, 目標語言序列\n",
    "      # 和源語言序列之間的\n",
    "      # feed_forward 一個全連接層\n",
    "      # dropout = 0.1   \n",
    "        super(DecoderLayer, self).__init__()\n",
    "        self.size = size # 512\n",
    "        self.self_attn = self_attn\n",
    "        self.src_attn = src_attn\n",
    "        self.feed_forward = feed_forward\n",
    "        self.sublayer = clones(SublayerConnection(size, dropout), 3)\n",
    "        # 需要三個SublayerConnection, 分別在\n",
    "        # self.self_attn, self.src_attn, 和self.feed_forward的後面\n",
    "\n",
    "    def forward(self, x, memory, src_mask, tgt_mask):\n",
    "        \"Follow Figure 1 (right) for connections.\"\n",
    "        m = memory # (batch.size, sequence.len, 512) \n",
    "        # 來自源語言序列的Encoder之後的輸出，作為memory\n",
    "        # 供目標語言的序列檢索匹配：（類似於alignment in SMT)\n",
    "        x = self.sublayer[0](x, \n",
    "          lambda x: self.self_attn(x, x, x, tgt_mask))\n",
    "        # 通過一個匿名函數，來實現目標序列的自註意力編碼\n",
    "        # 結果扔給sublayer[0]:SublayerConnection\n",
    "        x = self.sublayer[1](x, \n",
    "          lambda x: self.src_attn(x, m, m, src_mask))\n",
    "        # 通過第二個匿名函數，來實現目標序列和源序列的注意力計算\n",
    "        # 結果扔給sublayer[1]:SublayerConnection\n",
    "        return self.sublayer[2](x, self.feed_forward)\n",
    "        # 走一個全連接層，然後\n",
    "        # 結果扔給sublayer[2]:SublayerConnection"
   ]
  },
  {
   "attachments": {},
   "cell_type": "markdown",
   "metadata": {},
   "source": [
    "<span id=\"7\"></span>"
   ]
  },
  {
   "attachments": {},
   "cell_type": "markdown",
   "metadata": {},
   "source": [
    "\n",
    "## 8.Layernorm\n",
    "<a href=\"#head\">Back</a>\n"
   ]
  },
  {
   "attachments": {},
   "cell_type": "markdown",
   "metadata": {},
   "source": [
    "<img src=\"/data/tzeshinchen/deep_learning/transformer/Ai_meeting/image/layernorm.png\">"
   ]
  },
  {
   "cell_type": "code",
   "execution_count": null,
   "metadata": {},
   "outputs": [],
   "source": [
    "# 0503\n",
    "# 測self\n",
    "class LayerNorm(nn.Module):\n",
    "    \"Construct a layernorm module (See citation for details).\"\n",
    "    def __init__(self, features, eps=1e-6):\n",
    "        # features=d_model=512, eps=epsilon 用于分母的非0化平滑\n",
    "        super(LayerNorm, self).__init__()\n",
    "        \n",
    "        self.a_2 = nn.Parameter(torch.ones(features))\n",
    "        # nn.Parameter = https://pytorch.org/docs/stable/generated/torch.nn.parameter.Parameter.html\n",
    "        # https://stackoverflow.com/questions/50935345/understanding-torch-nn-parameter\n",
    "        # 可以想像成在做資料型態轉換而已，將定量的資料轉換成定性的資料\n",
    "        # a_2 是一個weight，(512)\n",
    "        self.b_2 = nn.Parameter(torch.zeros(features))\n",
    "        # b_2 也是一個是一個weight, (512)\n",
    "        self.eps = eps\n",
    "\n",
    "    def forward(self, x):\n",
    "        # x = (batch.size, sequence.len, 512)\n",
    "        mean = x.mean(-1, keepdim=True) \n",
    "        # 把x的最後一個維度取平均值，然後得到一個張量 (batch.size, seq.len)。\n",
    "        std = x.std(-1, keepdim=True)\n",
    "        # # 对 x 的最后一个维度取標準差，得到形状为 (batch.size, seq.len) 的 tensor。\n",
    "\n",
    "        return self.a_2 * (x - mean) / (std + self.eps) + self.b_2\n",
    "        # 本質上類似於（x-mean)/std，不過這裡加入了兩個可訓練向量 目的是為了平移和縮放\n",
    "        # a_2 and b_2，以及分母上增加一個極小值epsilon，用來防止std為0的時候的除法溢出。"
   ]
  },
  {
   "cell_type": "code",
   "execution_count": 8,
   "metadata": {},
   "outputs": [
    {
     "name": "stdout",
     "output_type": "stream",
     "text": [
      "tensor([1., 1., 1., 1.])\n",
      "tensor([0., 0., 0., 0.])\n",
      "<class 'torch.Tensor'>\n",
      "<class 'torch.nn.parameter.Parameter'>\n"
     ]
    }
   ],
   "source": [
    "import torch.nn as nn\n",
    "print(torch.ones(4))\n",
    "print(torch.zeros(4))\n",
    "print(type(torch.ones(4)))\n",
    "print(type(nn.Parameter(torch.ones(4))))\n"
   ]
  },
  {
   "attachments": {},
   "cell_type": "markdown",
   "metadata": {},
   "source": [
    "<span id=\"8\"></span>"
   ]
  },
  {
   "cell_type": "code",
   "execution_count": 5,
   "metadata": {},
   "outputs": [
    {
     "name": "stdout",
     "output_type": "stream",
     "text": [
      "x shape: torch.Size([30, 10, 512])\n",
      "mean_x shape: torch.Size([30, 10, 1])\n"
     ]
    }
   ],
   "source": [
    "# keepmean 做甚麼\n",
    "# 保留原始維度，不做維度壓縮一個維度變成1\n",
    "import torch\n",
    "\n",
    "# x = [[0.6,0.9,0.1,0.4,-0.7,-0.3],[0.5,0.8,-0.1,0.2,-0.6,-0.5],[0.7,-0.1,0.4,0.3,-0.4,-0.1],[-0.8,-0.4,-0.5,0.1,-0.9,0.3]]\n",
    "# x=torch.tensor(x)\n",
    "x= torch.randn(30, 10, 512)\n",
    "mean_x = x.mean(-1, keepdim=True)\n",
    "\n",
    "print('x shape:', x.shape)\n",
    "print('mean_x shape:', mean_x.shape)\n"
   ]
  },
  {
   "cell_type": "code",
   "execution_count": 7,
   "metadata": {},
   "outputs": [
    {
     "name": "stdout",
     "output_type": "stream",
     "text": [
      "torch.Size([30, 10, 512])\n"
     ]
    }
   ],
   "source": [
    "STD = x.std(-1, keepdim=True)\n",
    "Norm = ((x - mean_x) / (STD+1e-6))\n",
    "print(Norm.shape)"
   ]
  },
  {
   "cell_type": "code",
   "execution_count": 1,
   "metadata": {},
   "outputs": [
    {
     "data": {
      "image/png": "[encoded data removed]",
      "text/plain": [
       "<Figure size 432x288 with 1 Axes>"
      ]
     },
     "metadata": {
      "needs_background": "light"
     },
     "output_type": "display_data"
    }
   ],
   "source": [
    "import matplotlib.pyplot as plt\n",
    "import numpy as np\n",
    "import math\n",
    "\n",
    "x = np.arange(start=-3,stop=3,step=0.1)\n",
    "y = 1/(math.sqrt(2*math.pi))*math.e**(-x**2/2)\n",
    "# y1 = 1/math.sqrt(2*math.pi)*math.e**(-1/2*x**2)\n",
    "plt.plot(x,y)\n",
    "plt.show()\n",
    "\n"
   ]
  },
  {
   "cell_type": "code",
   "execution_count": 96,
   "metadata": {},
   "outputs": [
    {
     "data": {
      "text/plain": [
       "[<matplotlib.lines.Line2D at 0x7f368d911c10>]"
      ]
     },
     "execution_count": 96,
     "metadata": {},
     "output_type": "execute_result"
    },
    {
     "data": {
      "image/png": "[encoded data removed]",
      "text/plain": [
       "<Figure size 432x288 with 1 Axes>"
      ]
     },
     "metadata": {
      "needs_background": "light"
     },
     "output_type": "display_data"
    }
   ],
   "source": [
    "plt.plot(x, y)\n",
    "new_x=x+1\n",
    "plt.plot(new_x,y)\n",
    "\n",
    "new_y=y+0.5\n",
    "plt.plot(x,new_y)"
   ]
  },
  {
   "attachments": {},
   "cell_type": "markdown",
   "metadata": {},
   "source": [
    "<span id=\"9\"></span>"
   ]
  },
  {
   "cell_type": "code",
   "execution_count": 98,
   "metadata": {},
   "outputs": [
    {
     "data": {
      "text/plain": [
       "[<matplotlib.lines.Line2D at 0x7f368dd293a0>]"
      ]
     },
     "execution_count": 98,
     "metadata": {},
     "output_type": "execute_result"
    },
    {
     "data": {
      "image/png": "[encoded data removed]",
      "text/plain": [
       "<Figure size 432x288 with 1 Axes>"
      ]
     },
     "metadata": {
      "needs_background": "light"
     },
     "output_type": "display_data"
    }
   ],
   "source": [
    "plt.plot(x, y)\n",
    "new_x=x*2\n",
    "plt.plot(new_x,y)\n",
    "\n",
    "new_y=y*2\n",
    "plt.plot(x,new_y)"
   ]
  },
  {
   "attachments": {},
   "cell_type": "markdown",
   "metadata": {},
   "source": [
    "\n",
    "## 9.Encoder\n",
    "<a href=\"#head\">Back</a>\n"
   ]
  },
  {
   "cell_type": "code",
   "execution_count": null,
   "metadata": {},
   "outputs": [],
   "source": [
    "class Encoder(nn.Module):\n",
    "    \"Core encoder is a stack of N layers\"\n",
    "    def __init__(self, layer, N):\n",
    "        # layer = one EncoderLayer object, N=6\n",
    "        super(Encoder, self).__init__()\n",
    "        self.layers = clones(layer, N) \n",
    "        # copy，N=6，\n",
    "        self.norm = LayerNorm(layer.size)\n",
    "        # 定義一個LayerNorm，layer.size=d_model=512\n",
    "        # 其中有兩個可訓練參數a_2和b_2\n",
    "\n",
    "    def forward(self, x, mask):\n",
    "        \"Pass the input (and mask) through each layer in turn.\"\n",
    "        # x is alike (30, 10, 512)\n",
    "        # (batch.size, sequence.len, d_model)\n",
    "        # mask是類似於(batch.size, 10, 10)的矩陣\n",
    "        for layer in self.layers:\n",
    "            x = layer(x, mask)\n",
    "            # 進行六次EncoderLayer操作\n",
    "        return self.norm(x)\n",
    "        # 最後做一次LayerNorm，最後的輸出也是(30, 10, 512) shape"
   ]
  },
  {
   "attachments": {},
   "cell_type": "markdown",
   "metadata": {},
   "source": [
    "<span id=\"10\"></span>"
   ]
  },
  {
   "attachments": {},
   "cell_type": "markdown",
   "metadata": {},
   "source": [
    "\n",
    "## 10.Decoder\n",
    "<a href=\"#head\">Back</a>\n"
   ]
  },
  {
   "cell_type": "code",
   "execution_count": null,
   "metadata": {},
   "outputs": [],
   "source": [
    "class Decoder(nn.Module):\n",
    "    \"Generic N layer decoder with masking.\"\n",
    "    def __init__(self, layer, N):\n",
    "        # layer = DecoderLayer object\n",
    "        # N = 6\n",
    "        super(Decoder, self).__init__()\n",
    "        self.layers = clones(layer, N)\n",
    "        # 深度copy六次DecoderLayer\n",
    "        self.norm = LayerNorm(layer.size)\n",
    "        # 初始化一個LayerNorm\n",
    "\n",
    "    def forward(self, x, memory, src_mask, tgt_mask):\n",
    "        for layer in self.layers:\n",
    "            x = layer(x, memory, src_mask, tgt_mask)\n",
    "            # 執行六次DecoderLayer\n",
    "        return self.norm(x)\n",
    "        # 執行一次LayerNorm"
   ]
  },
  {
   "attachments": {},
   "cell_type": "markdown",
   "metadata": {},
   "source": [
    "<span id=\"11\"></span>"
   ]
  },
  {
   "attachments": {},
   "cell_type": "markdown",
   "metadata": {},
   "source": [
    "## 11.Generator\n",
    "<a href=\"#head\">Back</a>\n"
   ]
  },
  {
   "cell_type": "code",
   "execution_count": null,
   "metadata": {},
   "outputs": [],
   "source": [
    "class Generator(nn.Module):\n",
    "    \"Define standard linear + softmax generation step.\"\n",
    "    def __init__(self, d_model, vocab):\n",
    "        # d_model=512\n",
    "        # vocab = 目標字典大小\n",
    "        super(Generator, self).__init__()\n",
    "        self.proj = nn.Linear(d_model, vocab)\n",
    "        # 定義一個全連接層，可訓練參數個數是(512 * trg_vocab_size) + trg_vocab_size\n",
    "\n",
    "    def forward(self, x):\n",
    "        return F.log_softmax(self.proj(x), dim=-1)\n",
    "        # x 類似於 (batch.size, sequence.length, 512)\n",
    "        # -> proj FFN (30, 10, trg_vocab_size) = logits\n",
    "        # 對最後一個維度執行log_soft_max得到(30, 10, trg_vocab_size)"
   ]
  },
  {
   "attachments": {},
   "cell_type": "markdown",
   "metadata": {},
   "source": [
    "<span id=\"12\"></span>"
   ]
  },
  {
   "attachments": {},
   "cell_type": "markdown",
   "metadata": {},
   "source": [
    "\n",
    "## 12.EncoderDocoder\n",
    "<a href=\"#head\">Back</a>\n"
   ]
  },
  {
   "cell_type": "code",
   "execution_count": null,
   "metadata": {},
   "outputs": [],
   "source": [
    "class EncoderDecoder(nn.Module):\n",
    "    \"\"\"\n",
    "    A standard Encoder-Decoder architecture. \n",
    "    Base for this and many other models.\n",
    "    \"\"\"\n",
    "    def __init__(self, encoder, decoder, \n",
    "      src_embed, tgt_embed, generator):\n",
    "        super(EncoderDecoder, self).__init__()\n",
    "        self.encoder = encoder\n",
    "        # Encoder對象\n",
    "        self.decoder = decoder\n",
    "        # Decoder對象\n",
    "        self.src_embed = src_embed\n",
    "        # 來源語言序列的編碼，包括詞嵌入和位置編碼\n",
    "        self.tgt_embed = tgt_embed\n",
    "        # 目標語言序列的編碼，包括詞嵌入和位置編碼\n",
    "        self.generator = generator\n",
    "        \n",
    "\n",
    "\n",
    "    def encode(self, src, src_mask):\n",
    "        # src = (batch.size, seq.length)\n",
    "        # src_mask 负责对src加掩码\n",
    "        return self.encoder(self.src_embed(src), src_mask)\n",
    "        # 對目標語言序列進行編碼，得到的結果為\n",
    "        # (batch.size, seq.length, 512)的tensor\n",
    "\n",
    "    def decode(self, memory, src_mask, tgt, tgt_mask):\n",
    "        return self.decoder(self.tgt_embed(tgt), \n",
    "          memory, src_mask, tgt_mask)\n",
    "      # 對目標語言序列進行編碼，得到的結果為\n",
    "        # (batch.size, seq.length, 512)的tensor\n",
    "        \n",
    "      \n",
    "    \n",
    "    # 在這邊吃encoder output\n",
    "    def forward(self, src, tgt, src_mask, tgt_mask):\n",
    "        \"Take in and process masked src and target sequences.\"\n",
    "        return self.decode(self.encode(src, src_mask), src_mask,\n",
    "                            tgt, tgt_mask)\n",
    "        # 先對源語言序列進行編碼，\n",
    "        # 結果作為memory傳遞給目標語言的編碼器"
   ]
  },
  {
   "attachments": {},
   "cell_type": "markdown",
   "metadata": {},
   "source": [
    "<span id=\"Final\"></span>"
   ]
  },
  {
   "attachments": {},
   "cell_type": "markdown",
   "metadata": {},
   "source": [
    "## Final\n",
    "<a href=\"#head\">Back</a>\n"
   ]
  },
  {
   "cell_type": "code",
   "execution_count": null,
   "metadata": {},
   "outputs": [],
   "source": [
    "def make_model(src_vocab, tgt_vocab, N=6, \n",
    "               d_model=512, d_ff=2048, h=8, dropout=0.1):\n",
    "    \"Helper: Construct a model from hyperparameters.\"\n",
    "    c = copy.deepcopy\n",
    "    attn = MultiHeadedAttention(h, d_model)\n",
    "    # 加copy是為了避免共享參數\n",
    "    ff = PositionwiseFeedForward(d_model, d_ff, dropout)\n",
    "    position = PositionalEncoding(d_model, dropout)\n",
    "    model = EncoderDecoder( \n",
    "        Encoder(EncoderLayer(d_model, c(attn), c(ff), dropout), N), \n",
    "        Decoder(DecoderLayer(d_model, c(attn), c(attn),c(ff), dropout), N),    \n",
    "        nn.Sequential(Embeddings(d_model, src_vocab), c(position)),\n",
    "        nn.Sequential(Embeddings(d_model, tgt_vocab), c(position)),\n",
    "        Generator(d_model, tgt_vocab))\n",
    "    # d_model=512 attn 呼叫MultiHeadedAttention 傳出output 是一個(30, 10, 512)的tensor(batch.size, seq.length, 512)\n",
    "    # ff=2048\n",
    "    # This was important from their code. \n",
    "    # Initialize parameters with Glorot / fan_avg.\n",
    "    for p in model.parameters():\n",
    "        if p.dim() > 1:\n",
    "            nn.init.xavier_uniform(p)\n",
    "    return model"
   ]
  },
  {
   "cell_type": "code",
   "execution_count": null,
   "metadata": {},
   "outputs": [],
   "source": [
    "# Small example model.\n",
    "tmp_model = make_model(10, 10, 2)\n",
    "# src_vocab_size = 10\n",
    "# tgt_vocab_size = 10\n",
    "# N = 2, number for EncoderLayer and DecoderLayer\n",
    "\n",
    "for name, param in tmp_model.named_parameters():\n",
    "    if param.requires_grad:\n",
    "        print (name, param.data.shape)\n",
    "    else:\n",
    "        print ('no gradient necessary', name, param.data.shape)"
   ]
  },
  {
   "cell_type": "code",
   "execution_count": null,
   "metadata": {},
   "outputs": [],
   "source": [
    "tmp_model = make_model(30000, 30000, 6) \n",
    "# src_vocab_size=30000, tgt_vocab_size=30000, N=6\n",
    "#None\n",
    "for name, param in tmp_model.named_parameters():\n",
    "    if param.requires_grad:\n",
    "        print (name, param.data.shape)\n",
    "    else:\n",
    "        print ('no gradient necessary', name, param.data.shape)"
   ]
  },
  {
   "cell_type": "code",
   "execution_count": 4,
   "metadata": {},
   "outputs": [],
   "source": [
    "# **************************************************************************************************************************************************************************************************************************************************************************************************************************************************************"
   ]
  },
  {
   "attachments": {},
   "cell_type": "markdown",
   "metadata": {},
   "source": []
  },
  {
   "attachments": {},
   "cell_type": "markdown",
   "metadata": {},
   "source": []
  },
  {
   "attachments": {},
   "cell_type": "markdown",
   "metadata": {},
   "source": []
  },
  {
   "attachments": {},
   "cell_type": "markdown",
   "metadata": {},
   "source": []
  },
  {
   "attachments": {},
   "cell_type": "markdown",
   "metadata": {},
   "source": [
    "## Model Training"
   ]
  },
  {
   "cell_type": "code",
   "execution_count": null,
   "metadata": {},
   "outputs": [],
   "source": [
    "class Batch:\n",
    "    \"\"\"Object for holding a batch of data with mask during training.\"\"\"\n",
    "\n",
    "    def __init__(self, src, tgt=None, pad=2):  # 2 = <blank>\n",
    "        self.src = src\n",
    "        self.src_mask = (src != pad).unsqueeze(-2)\n",
    "        if tgt is not None:\n",
    "            self.tgt = tgt[:, :-1]\n",
    "            self.tgt_y = tgt[:, 1:]\n",
    "            self.tgt_mask = self.make_std_mask(self.tgt, pad)\n",
    "            self.ntokens = (self.tgt_y != pad).data.sum()\n",
    "\n",
    "    @staticmethod\n",
    "    def make_std_mask(tgt, pad):\n",
    "        \"Create a mask to hide padding and future words.\"\n",
    "        tgt_mask = (tgt != pad).unsqueeze(-2)\n",
    "        tgt_mask = tgt_mask & subsequent_mask(tgt.size(-1)).type_as(\n",
    "            tgt_mask.data\n",
    "        )\n",
    "        return tgt_mask"
   ]
  },
  {
   "attachments": {},
   "cell_type": "markdown",
   "metadata": {},
   "source": [
    "## Loop"
   ]
  },
  {
   "cell_type": "code",
   "execution_count": null,
   "metadata": {},
   "outputs": [],
   "source": [
    "class TrainState:\n",
    "    \"\"\"Track number of steps, examples, and tokens processed\"\"\"\n",
    "\n",
    "    step: int = 0  # Steps in the current epoch\n",
    "    accum_step: int = 0  # Number of gradient accumulation steps\n",
    "    samples: int = 0  # total # of examples used\n",
    "    tokens: int = 0  # total # of tokens processed"
   ]
  },
  {
   "cell_type": "code",
   "execution_count": null,
   "metadata": {},
   "outputs": [],
   "source": [
    "def run_epoch(\n",
    "    data_iter,\n",
    "    model,\n",
    "    loss_compute,\n",
    "    optimizer,\n",
    "    scheduler,\n",
    "    mode=\"train\",\n",
    "    accum_iter=1,\n",
    "    train_state=TrainState(),\n",
    "):\n",
    "    \"\"\"Train a single epoch\"\"\"\n",
    "    start = time.time()\n",
    "    total_tokens = 0\n",
    "    total_loss = 0\n",
    "    tokens = 0\n",
    "    n_accum = 0\n",
    "    for i, batch in enumerate(data_iter):\n",
    "        out = model.forward(\n",
    "            batch.src, batch.tgt, batch.src_mask, batch.tgt_mask\n",
    "        )\n",
    "        loss, loss_node = loss_compute(out, batch.tgt_y, batch.ntokens)\n",
    "        # loss_node = loss_node / accum_iter\n",
    "        if mode == \"train\" or mode == \"train+log\":\n",
    "            loss_node.backward()\n",
    "            train_state.step += 1\n",
    "            train_state.samples += batch.src.shape[0]\n",
    "            train_state.tokens += batch.ntokens\n",
    "            if i % accum_iter == 0:\n",
    "                optimizer.step()\n",
    "                optimizer.zero_grad(set_to_none=True)\n",
    "                n_accum += 1\n",
    "                train_state.accum_step += 1\n",
    "            scheduler.step()\n",
    "\n",
    "        total_loss += loss\n",
    "        total_tokens += batch.ntokens\n",
    "        tokens += batch.ntokens\n",
    "        if i % 40 == 1 and (mode == \"train\" or mode == \"train+log\"):\n",
    "            lr = optimizer.param_groups[0][\"lr\"]\n",
    "            elapsed = time.time() - start\n",
    "            print(\n",
    "                (\n",
    "                    \"Epoch Step: %6d | Accumulation Step: %3d | Loss: %6.2f \"\n",
    "                    + \"| Tokens / Sec: %7.1f | Learning Rate: %6.1e\"\n",
    "                )\n",
    "                % (i, n_accum, loss / batch.ntokens, tokens / elapsed, lr)\n",
    "            )\n",
    "            start = time.time()\n",
    "            tokens = 0\n",
    "        del loss\n",
    "        del loss_node\n",
    "    return total_loss / total_tokens, train_state"
   ]
  },
  {
   "cell_type": "code",
   "execution_count": null,
   "metadata": {},
   "outputs": [],
   "source": [
    "def example_learning_schedule():\n",
    "    opts = [\n",
    "        [512, 1, 4000],  # example 1\n",
    "        [512, 1, 8000],  # example 2\n",
    "        [256, 1, 4000],  # example 3\n",
    "    ]\n",
    "\n",
    "    dummy_model = torch.nn.Linear(1, 1)\n",
    "    learning_rates = []\n",
    "\n",
    "    # we have 3 examples in opts list.\n",
    "    for idx, example in enumerate(opts):\n",
    "        # run 20000 epoch for each example\n",
    "        optimizer = torch.optim.Adam(\n",
    "            dummy_model.parameters(), lr=1, betas=(0.9, 0.98), eps=1e-9\n",
    "        )\n",
    "        lr_scheduler = LambdaLR(\n",
    "            optimizer=optimizer, lr_lambda=lambda step: rate(step, *example)\n",
    "        )\n",
    "        tmp = []\n",
    "        # take 20K dummy training steps, save the learning rate at each step\n",
    "        for step in range(20000):\n",
    "            tmp.append(optimizer.param_groups[0][\"lr\"])\n",
    "            optimizer.step()\n",
    "            lr_scheduler.step()\n",
    "        learning_rates.append(tmp)\n",
    "\n",
    "    learning_rates = torch.tensor(learning_rates)\n",
    "\n",
    "    # Enable altair to handle more than 5000 rows\n",
    "    alt.data_transformers.disable_max_rows()\n",
    "\n",
    "    opts_data = pd.concat(\n",
    "        [\n",
    "            pd.DataFrame(\n",
    "                {\n",
    "                    \"Learning Rate\": learning_rates[warmup_idx, :],\n",
    "                    \"model_size:warmup\": [\"512:4000\", \"512:8000\", \"256:4000\"][\n",
    "                        warmup_idx\n",
    "                    ],\n",
    "                    \"step\": range(20000),\n",
    "                }\n",
    "            )\n",
    "            for warmup_idx in [0, 1, 2]\n",
    "        ]\n",
    "    )\n",
    "\n",
    "    return (\n",
    "        alt.Chart(opts_data)\n",
    "        .mark_line()\n",
    "        .properties(width=600)\n",
    "        .encode(x=\"step\", y=\"Learning Rate\", color=\"model_size:warmup:N\")\n",
    "        .interactive()\n",
    "    )\n",
    "\n",
    "\n",
    "example_learning_schedule()"
   ]
  },
  {
   "attachments": {},
   "cell_type": "markdown",
   "metadata": {},
   "source": [
    "## Regularization\n",
    "\n",
    "### Label Smoothing"
   ]
  },
  {
   "cell_type": "code",
   "execution_count": null,
   "metadata": {},
   "outputs": [],
   "source": [
    "class LabelSmoothing(nn.Module):\n",
    "    \"Implement label smoothing.\"\n",
    "\n",
    "    def __init__(self, size, padding_idx, smoothing=0.0):\n",
    "        super(LabelSmoothing, self).__init__()\n",
    "        self.criterion = nn.KLDivLoss(reduction=\"sum\")\n",
    "        self.padding_idx = padding_idx\n",
    "        self.confidence = 1.0 - smoothing\n",
    "        self.smoothing = smoothing\n",
    "        self.size = size\n",
    "        self.true_dist = None\n",
    "\n",
    "    def forward(self, x, target):\n",
    "        assert x.size(1) == self.size\n",
    "        true_dist = x.data.clone()\n",
    "        true_dist.fill_(self.smoothing / (self.size - 2))\n",
    "        true_dist.scatter_(1, target.data.unsqueeze(1), self.confidence)\n",
    "        true_dist[:, self.padding_idx] = 0\n",
    "        mask = torch.nonzero(target.data == self.padding_idx)\n",
    "        if mask.dim() > 0:\n",
    "            true_dist.index_fill_(0, mask.squeeze(), 0.0)\n",
    "        self.true_dist = true_dist\n",
    "        return self.criterion(x, true_dist.clone().detach())"
   ]
  },
  {
   "cell_type": "code",
   "execution_count": null,
   "metadata": {},
   "outputs": [],
   "source": [
    "def run_epoch(\n",
    "    data_iter,\n",
    "    model,\n",
    "    loss_compute,\n",
    "    optimizer,\n",
    "    scheduler,\n",
    "    mode=\"train\",\n",
    "    accum_iter=1,\n",
    "    train_state=TrainState(),\n",
    "):\n",
    "    \"\"\"Train a single epoch\"\"\"\n",
    "    start = time.time()\n",
    "    total_tokens = 0\n",
    "    total_loss = 0\n",
    "    tokens = 0\n",
    "    n_accum = 0\n",
    "    for i, batch in enumerate(data_iter):\n",
    "        out = model.forward(\n",
    "            batch.src, batch.tgt, batch.src_mask, batch.tgt_mask\n",
    "        )\n",
    "        loss, loss_node = loss_compute(out, batch.tgt_y, batch.ntokens)\n",
    "        # loss_node = loss_node / accum_iter\n",
    "        if mode == \"train\" or mode == \"train+log\":\n",
    "            loss_node.backward()\n",
    "            train_state.step += 1\n",
    "            train_state.samples += batch.src.shape[0]\n",
    "            train_state.tokens += batch.ntokens\n",
    "            if i % accum_iter == 0:\n",
    "                optimizer.step()\n",
    "                optimizer.zero_grad(set_to_none=True)\n",
    "                n_accum += 1\n",
    "                train_state.accum_step += 1\n",
    "            scheduler.step()\n",
    "\n",
    "        total_loss += loss\n",
    "        total_tokens += batch.ntokens\n",
    "        tokens += batch.ntokens\n",
    "        if i % 40 == 1 and (mode == \"train\" or mode == \"train+log\"):\n",
    "            lr = optimizer.param_groups[0][\"lr\"]\n",
    "            elapsed = time.time() - start\n",
    "            print(\n",
    "                (\n",
    "                    \"Epoch Step: %6d | Accumulation Step: %3d | Loss: %6.2f \"\n",
    "                    + \"| Tokens / Sec: %7.1f | Learning Rate: %6.1e\"\n",
    "                )\n",
    "                % (i, n_accum, loss / batch.ntokens, tokens / elapsed, lr)\n",
    "            )\n",
    "            start = time.time()\n",
    "            tokens = 0\n",
    "        del loss\n",
    "        del loss_node\n",
    "    return total_loss / total_tokens, train_state"
   ]
  },
  {
   "attachments": {},
   "cell_type": "markdown",
   "metadata": {},
   "source": [
    "## Optimizer"
   ]
  },
  {
   "cell_type": "code",
   "execution_count": null,
   "metadata": {},
   "outputs": [],
   "source": [
    "def rate(step, model_size, factor, warmup):\n",
    "    \"\"\"\n",
    "    we have to default the step to 1 for LambdaLR function\n",
    "    to avoid zero raising to negative power.\n",
    "    \"\"\"\n",
    "    if step == 0:\n",
    "        step = 1\n",
    "    return factor * (\n",
    "        model_size ** (-0.5) * min(step ** (-0.5), step * warmup ** (-1.5))\n",
    "    )"
   ]
  },
  {
   "cell_type": "code",
   "execution_count": null,
   "metadata": {},
   "outputs": [],
   "source": [
    "\n",
    "\n",
    "def loss(x, crit):\n",
    "    d = x + 3 * 1\n",
    "    predict = torch.FloatTensor([[0, x / d, 1 / d, 1 / d, 1 / d]])\n",
    "    return crit(predict.log(), torch.LongTensor([1])).data\n",
    "\n",
    "\n",
    "def penalization_visualization():\n",
    "    crit = LabelSmoothing(5, 0, 0.1)\n",
    "    loss_data = pd.DataFrame(\n",
    "        {\n",
    "            \"Loss\": [loss(x, crit) for x in range(1, 100)],\n",
    "            \"Steps\": list(range(99)),\n",
    "        }\n",
    "    ).astype(\"float\")\n",
    "\n",
    "    return (\n",
    "        alt.Chart(loss_data)\n",
    "        .mark_line()\n",
    "        .properties(width=350)\n",
    "        .encode(\n",
    "            x=\"Steps\",\n",
    "            y=\"Loss\",\n",
    "        )\n",
    "        .interactive()\n",
    "    )\n",
    "\n",
    "\n",
    "show_example(penalization_visualization)"
   ]
  },
  {
   "attachments": {},
   "cell_type": "markdown",
   "metadata": {},
   "source": [
    "## A First  Example"
   ]
  },
  {
   "cell_type": "code",
   "execution_count": null,
   "metadata": {},
   "outputs": [],
   "source": [
    "def data_gen(V, batch_size, nbatches):\n",
    "    \"Generate random data for a src-tgt copy task.\"\n",
    "    for i in range(nbatches):\n",
    "        data = torch.randint(1, V, size=(batch_size, 10))\n",
    "        data[:, 0] = 1\n",
    "        src = data.requires_grad_(False).clone().detach()\n",
    "        tgt = data.requires_grad_(False).clone().detach()\n",
    "        yield Batch(src, tgt, 0)"
   ]
  },
  {
   "attachments": {},
   "cell_type": "markdown",
   "metadata": {},
   "source": [
    "## Loss Computation"
   ]
  },
  {
   "cell_type": "code",
   "execution_count": null,
   "metadata": {},
   "outputs": [],
   "source": [
    "class SimpleLossCompute:\n",
    "    \"A simple loss compute and train function.\"\n",
    "\n",
    "    def __init__(self, generator, criterion):\n",
    "        self.generator = generator\n",
    "        self.criterion = criterion\n",
    "\n",
    "    def __call__(self, x, y, norm):\n",
    "        x = self.generator(x)\n",
    "        sloss = (\n",
    "            self.criterion(\n",
    "                x.contiguous().view(-1, x.size(-1)), y.contiguous().view(-1)\n",
    "            )\n",
    "            / norm\n",
    "        )\n",
    "        return sloss.data * norm, sloss"
   ]
  },
  {
   "attachments": {},
   "cell_type": "markdown",
   "metadata": {},
   "source": [
    "## Greedy Decoding"
   ]
  },
  {
   "cell_type": "code",
   "execution_count": null,
   "metadata": {},
   "outputs": [],
   "source": [
    "def greedy_decode(model, src, src_mask, max_len, start_symbol):\n",
    "    memory = model.encode(src, src_mask)\n",
    "    ys = torch.zeros(1, 1).fill_(start_symbol).type_as(src.data)\n",
    "    for i in range(max_len - 1):\n",
    "        out = model.decode(\n",
    "            memory, src_mask, ys, subsequent_mask(ys.size(1)).type_as(src.data)\n",
    "        )\n",
    "        prob = model.generator(out[:, -1])\n",
    "        _, next_word = torch.max(prob, dim=1)\n",
    "        next_word = next_word.data[0]\n",
    "        ys = torch.cat(\n",
    "            [ys, torch.zeros(1, 1).type_as(src.data).fill_(next_word)], dim=1\n",
    "        )\n",
    "    return ys"
   ]
  },
  {
   "cell_type": "code",
   "execution_count": null,
   "metadata": {},
   "outputs": [],
   "source": [
    "# Train the simple copy task.\n",
    "\n",
    "\n",
    "def example_simple_model():\n",
    "    V = 11\n",
    "    criterion = LabelSmoothing(size=V, padding_idx=0, smoothing=0.0)\n",
    "    model = make_model(V, V, N=2)\n",
    "\n",
    "    optimizer = torch.optim.Adam(\n",
    "        model.parameters(), lr=0.5, betas=(0.9, 0.98), eps=1e-9\n",
    "    )\n",
    "    lr_scheduler = LambdaLR(\n",
    "        optimizer=optimizer,\n",
    "        lr_lambda=lambda step: rate(\n",
    "            step, model_size=model.src_embed[0].d_model, factor=1.0, warmup=400\n",
    "        ),\n",
    "    )\n",
    "\n",
    "    batch_size = 80\n",
    "    for epoch in range(20):\n",
    "        model.train()\n",
    "        run_epoch(\n",
    "            data_gen(V, batch_size, 20),\n",
    "            model,\n",
    "            SimpleLossCompute(model.generator, criterion),\n",
    "            optimizer,\n",
    "            lr_scheduler,\n",
    "            mode=\"train\",\n",
    "        )\n",
    "        model.eval()\n",
    "        run_epoch(\n",
    "            data_gen(V, batch_size, 5),\n",
    "            model,\n",
    "            SimpleLossCompute(model.generator, criterion),\n",
    "            DummyOptimizer(),\n",
    "            DummyScheduler(),\n",
    "            mode=\"eval\",\n",
    "        )[0]\n",
    "\n",
    "    model.eval()\n",
    "    src = torch.LongTensor([[0, 1, 2, 3, 4, 5, 6, 7, 8, 9]])\n",
    "    max_len = src.shape[1]\n",
    "    src_mask = torch.ones(1, 1, max_len)\n",
    "    print(greedy_decode(model, src, src_mask, max_len=max_len, start_symbol=0))\n",
    "\n",
    "\n",
    "# execute_example(example_simple_model)"
   ]
  }
 ],
 "metadata": {
  "kernelspec": {
   "display_name": "base",
   "language": "python",
   "name": "python3"
  },
  "language_info": {
   "codemirror_mode": {
    "name": "ipython",
    "version": 3
   },
   "file_extension": ".py",
   "mimetype": "text/x-python",
   "name": "python",
   "nbconvert_exporter": "python",
   "pygments_lexer": "ipython3",
   "version": "3.9.2"
  },
  "orig_nbformat": 4
 },
 "nbformat": 4,
 "nbformat_minor": 2
}
