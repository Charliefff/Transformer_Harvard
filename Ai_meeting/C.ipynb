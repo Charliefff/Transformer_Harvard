{
 "cells": [
  {
   "attachments": {},
   "cell_type": "markdown",
   "metadata": {},
   "source": [
    "// C++對照\n",
    "#include <iostream.h>\n",
    "\n",
    "class Rectangle{\n",
    "        int x, y;\n",
    "    public:\n",
    "        void set_values (int,int);\n",
    "        int area() {return (x*y);}\n",
    "    \n",
    "};\n",
    "\n",
    "void Rectangle::set_values (int a, int b){\n",
    "    \n",
    "    x = a;\n",
    "    y = b;\n",
    "}\n",
    "\n",
    "int main(){\n",
    "    Rectangle rect, rectb;\n",
    "    rect.set_values (3,4);\n",
    "    rectb.set_values (5,6);\n",
    "    cout << \"rect area: \" << rect.area() << endl;\n",
    "    cout << \"rectb area: \" << rectb.area() << endl;\n",
    "}\n"
   ]
  },
  {
   "cell_type": "code",
   "execution_count": 28,
   "metadata": {
    "vscode": {
     "languageId": "python"
    }
   },
   "outputs": [
    {
     "data": {
      "text/plain": [
       "12"
      ]
     },
     "execution_count": 28,
     "metadata": {},
     "output_type": "execute_result"
    }
   ],
   "source": [
    "class Rectangle():\n",
    "    \n",
    "    def __init__(self, x, y):\n",
    "        self.x = x\n",
    "        self.y = y\n",
    "        \n",
    "    def area(self):\n",
    "        return self.x * self.y\n",
    "    \n",
    "rect = Rectangle(3,4)\n",
    "rect.area()\n",
    "# self 是將rect傳入area()的參數，所以self.x = 3, self.y = 4"
   ]
  },
  {
   "cell_type": "code",
   "execution_count": 29,
   "metadata": {
    "vscode": {
     "languageId": "python"
    }
   },
   "outputs": [
    {
     "data": {
      "text/plain": [
       "12"
      ]
     },
     "execution_count": 29,
     "metadata": {},
     "output_type": "execute_result"
    }
   ],
   "source": [
    "# self改成aaa不影響結果\n",
    "class Rectangle():\n",
    "    \n",
    "    def __init__(aaa, x, y):\n",
    "        aaa.x = x\n",
    "        aaa.y = y\n",
    "        \n",
    "    def area(aaa):\n",
    "        return aaa.x * aaa.y\n",
    "    \n",
    "rect = Rectangle(3,4)\n",
    "rect.area()\n"
   ]
  },
  {
   "cell_type": "code",
   "execution_count": 32,
   "metadata": {
    "vscode": {
     "languageId": "python"
    }
   },
   "outputs": [
    {
     "data": {
      "text/plain": [
       "30"
      ]
     },
     "execution_count": 32,
     "metadata": {},
     "output_type": "execute_result"
    }
   ],
   "source": [
    "rectb = Rectangle(5,6)\n",
    "rectb.area()\n"
   ]
  }
 ],
 "metadata": {
  "kernelspec": {
   "display_name": "Python 3 (ipykernel)",
   "language": "python",
   "name": "python3"
  },
  "orig_nbformat": 4
 },
 "nbformat": 4,
 "nbformat_minor": 2
}
