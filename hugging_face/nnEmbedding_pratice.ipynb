{
 "cells": [
  {
   "cell_type": "code",
   "execution_count": 1,
   "metadata": {},
   "outputs": [],
   "source": [
    "import torch \n",
    "from torch import nn\n"
   ]
  },
  {
   "cell_type": "code",
   "execution_count": 9,
   "metadata": {},
   "outputs": [
    {
     "data": {
      "text/plain": [
       "tensor([[-0.6164, -0.6320,  0.3353],\n",
       "        [-0.2987, -0.0241,  0.1416],\n",
       "        [ 2.2032, -0.2551,  0.0553],\n",
       "        [-0.6934, -0.9149,  0.1266],\n",
       "        [-1.3350,  0.2645, -0.8097],\n",
       "        [ 0.5249,  1.3646, -2.0492],\n",
       "        [-1.6720,  0.9837, -0.9562],\n",
       "        [-0.2481,  2.7806,  2.3875],\n",
       "        [ 0.5137, -0.4651,  0.7883]], grad_fn=<EmbeddingBackward0>)"
      ]
     },
     "execution_count": 9,
     "metadata": {},
     "output_type": "execute_result"
    }
   ],
   "source": [
    "# 隨機編碼\n",
    "embedding = nn.Embedding(30, 3)\n",
    "embedding(torch.LongTensor([0,1,2, 3, 4, 5, 6, 7]))"
   ]
  },
  {
   "cell_type": "code",
   "execution_count": 10,
   "metadata": {},
   "outputs": [
    {
     "data": {
      "text/plain": [
       "tensor([[ 1.7208,  0.4675,  1.6078],\n",
       "        [-0.7659,  1.9330, -0.4218],\n",
       "        [ 0.0000,  0.0000,  0.0000],\n",
       "        [ 2.4231,  1.1332, -0.8140],\n",
       "        [ 0.4251, -0.9532,  0.0560],\n",
       "        [ 1.1066,  0.5359, -0.7423],\n",
       "        [-0.9292,  0.2721,  0.2473],\n",
       "        [-0.1443, -0.7059, -2.2358]], grad_fn=<EmbeddingBackward0>)"
      ]
     },
     "execution_count": 10,
     "metadata": {},
     "output_type": "execute_result"
    }
   ],
   "source": [
    "# 加unknow\n",
    "embedding = nn.Embedding(30, 3, padding_idx = 2)\n",
    "embedding(torch.LongTensor([0,1,2, 3, 4, 5, 6, 7]))"
   ]
  },
  {
   "cell_type": "code",
   "execution_count": 39,
   "metadata": {},
   "outputs": [],
   "source": [
    "# 實際編碼\n",
    "word = \"Hello , how are you charlie\"\n",
    "token = word.split(\" \")\n",
    "worf_dic = {y:x for x, y in enumerate(token)}\n",
    "embedding = nn.Embedding(30, 3, padding_idx=20)\n",
    "for x, y in enumerate(token):\n",
    "    y = torch.tensor([x], dtype=torch.int64)\n",
    " \n"
   ]
  },
  {
   "cell_type": "code",
   "execution_count": 42,
   "metadata": {},
   "outputs": [
    {
     "ename": "TypeError",
     "evalue": "'Embedding' object is not subscriptable",
     "output_type": "error",
     "traceback": [
      "\u001b[0;31m---------------------------------------------------------------------------\u001b[0m",
      "\u001b[0;31mTypeError\u001b[0m                                 Traceback (most recent call last)",
      "\u001b[0;32m/tmp/ipykernel_8305/122231047.py\u001b[0m in \u001b[0;36m<module>\u001b[0;34m\u001b[0m\n\u001b[0;32m----> 1\u001b[0;31m \u001b[0mprint\u001b[0m\u001b[0;34m(\u001b[0m\u001b[0membedding\u001b[0m\u001b[0;34m[\u001b[0m\u001b[0;36m1\u001b[0m\u001b[0;34m]\u001b[0m\u001b[0;34m)\u001b[0m\u001b[0;34m\u001b[0m\u001b[0;34m\u001b[0m\u001b[0m\n\u001b[0m",
      "\u001b[0;31mTypeError\u001b[0m: 'Embedding' object is not subscriptable"
     ]
    }
   ],
   "source": [
    "print(embedding[1])\n"
   ]
  }
 ],
 "metadata": {
  "kernelspec": {
   "display_name": "base",
   "language": "python",
   "name": "python3"
  },
  "language_info": {
   "codemirror_mode": {
    "name": "ipython",
    "version": 3
   },
   "file_extension": ".py",
   "mimetype": "text/x-python",
   "name": "python",
   "nbconvert_exporter": "python",
   "pygments_lexer": "ipython3",
   "version": "3.9.2"
  },
  "orig_nbformat": 4,
  "vscode": {
   "interpreter": {
    "hash": "d24668b2284c343cb82cd5c089569b38f2000986df2dd49d23cbe334a47f40b7"
   }
  }
 },
 "nbformat": 4,
 "nbformat_minor": 2
}
